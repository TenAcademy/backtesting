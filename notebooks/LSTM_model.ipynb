{
 "cells": [
  {
   "cell_type": "markdown",
   "metadata": {},
   "source": [
    "##LSTM model"
   ]
  },
  {
   "cell_type": "code",
   "execution_count": 1,
   "metadata": {},
   "outputs": [],
   "source": [
    "import yfinance as yf\n",
    "import numpy as np\n",
    "import pandas as pd\n",
    "import tensorflow as tf\n",
    "import matplotlib.pyplot as plt\n",
    "from sklearn.preprocessing import MinMaxScaler\n",
    "from tensorflow.keras.models import Sequential\n",
    "from tensorflow.keras.layers import Dense , Dropout , LSTM"
   ]
  },
  {
   "cell_type": "code",
   "execution_count": 2,
   "metadata": {},
   "outputs": [
    {
     "data": {
      "text/html": [
       "<div>\n",
       "<style scoped>\n",
       "    .dataframe tbody tr th:only-of-type {\n",
       "        vertical-align: middle;\n",
       "    }\n",
       "\n",
       "    .dataframe tbody tr th {\n",
       "        vertical-align: top;\n",
       "    }\n",
       "\n",
       "    .dataframe thead th {\n",
       "        text-align: right;\n",
       "    }\n",
       "</style>\n",
       "<table border=\"1\" class=\"dataframe\">\n",
       "  <thead>\n",
       "    <tr style=\"text-align: right;\">\n",
       "      <th></th>\n",
       "      <th>Date</th>\n",
       "      <th>Open</th>\n",
       "      <th>High</th>\n",
       "      <th>Low</th>\n",
       "      <th>Close</th>\n",
       "      <th>Adj Close</th>\n",
       "      <th>Volume</th>\n",
       "    </tr>\n",
       "  </thead>\n",
       "  <tbody>\n",
       "    <tr>\n",
       "      <th>0</th>\n",
       "      <td>2017-10-10</td>\n",
       "      <td>4776.209961</td>\n",
       "      <td>4922.169922</td>\n",
       "      <td>4765.100098</td>\n",
       "      <td>4781.990234</td>\n",
       "      <td>4781.990234</td>\n",
       "      <td>1597139968</td>\n",
       "    </tr>\n",
       "    <tr>\n",
       "      <th>1</th>\n",
       "      <td>2017-10-11</td>\n",
       "      <td>4789.250000</td>\n",
       "      <td>4873.729980</td>\n",
       "      <td>4751.629883</td>\n",
       "      <td>4826.479980</td>\n",
       "      <td>4826.479980</td>\n",
       "      <td>1222279936</td>\n",
       "    </tr>\n",
       "    <tr>\n",
       "      <th>2</th>\n",
       "      <td>2017-10-12</td>\n",
       "      <td>4829.580078</td>\n",
       "      <td>5446.910156</td>\n",
       "      <td>4822.000000</td>\n",
       "      <td>5446.910156</td>\n",
       "      <td>5446.910156</td>\n",
       "      <td>2791610112</td>\n",
       "    </tr>\n",
       "    <tr>\n",
       "      <th>3</th>\n",
       "      <td>2017-10-13</td>\n",
       "      <td>5464.160156</td>\n",
       "      <td>5840.299805</td>\n",
       "      <td>5436.850098</td>\n",
       "      <td>5647.209961</td>\n",
       "      <td>5647.209961</td>\n",
       "      <td>3615480064</td>\n",
       "    </tr>\n",
       "    <tr>\n",
       "      <th>4</th>\n",
       "      <td>2017-10-14</td>\n",
       "      <td>5643.529785</td>\n",
       "      <td>5837.700195</td>\n",
       "      <td>5591.640137</td>\n",
       "      <td>5831.790039</td>\n",
       "      <td>5831.790039</td>\n",
       "      <td>1669030016</td>\n",
       "    </tr>\n",
       "  </tbody>\n",
       "</table>\n",
       "</div>"
      ],
      "text/plain": [
       "         Date         Open         High          Low        Close  \\\n",
       "0  2017-10-10  4776.209961  4922.169922  4765.100098  4781.990234   \n",
       "1  2017-10-11  4789.250000  4873.729980  4751.629883  4826.479980   \n",
       "2  2017-10-12  4829.580078  5446.910156  4822.000000  5446.910156   \n",
       "3  2017-10-13  5464.160156  5840.299805  5436.850098  5647.209961   \n",
       "4  2017-10-14  5643.529785  5837.700195  5591.640137  5831.790039   \n",
       "\n",
       "     Adj Close      Volume  \n",
       "0  4781.990234  1597139968  \n",
       "1  4826.479980  1222279936  \n",
       "2  5446.910156  2791610112  \n",
       "3  5647.209961  3615480064  \n",
       "4  5831.790039  1669030016  "
      ]
     },
     "execution_count": 2,
     "metadata": {},
     "output_type": "execute_result"
    }
   ],
   "source": [
    "df = pd.read_csv(\"../data/BTC-USD.csv\")\n",
    "df.head()"
   ]
  },
  {
   "cell_type": "markdown",
   "metadata": {},
   "source": [
    "### Visualization"
   ]
  },
  {
   "cell_type": "code",
   "execution_count": 3,
   "metadata": {},
   "outputs": [
    {
     "data": {
      "text/html": [
       "<div>\n",
       "<style scoped>\n",
       "    .dataframe tbody tr th:only-of-type {\n",
       "        vertical-align: middle;\n",
       "    }\n",
       "\n",
       "    .dataframe tbody tr th {\n",
       "        vertical-align: top;\n",
       "    }\n",
       "\n",
       "    .dataframe thead th {\n",
       "        text-align: right;\n",
       "    }\n",
       "</style>\n",
       "<table border=\"1\" class=\"dataframe\">\n",
       "  <thead>\n",
       "    <tr style=\"text-align: right;\">\n",
       "      <th></th>\n",
       "      <th>Date</th>\n",
       "      <th>Open</th>\n",
       "      <th>High</th>\n",
       "      <th>Low</th>\n",
       "      <th>Close</th>\n",
       "      <th>Adj Close</th>\n",
       "      <th>Volume</th>\n",
       "    </tr>\n",
       "  </thead>\n",
       "  <tbody>\n",
       "    <tr>\n",
       "      <th>0</th>\n",
       "      <td>False</td>\n",
       "      <td>False</td>\n",
       "      <td>False</td>\n",
       "      <td>False</td>\n",
       "      <td>False</td>\n",
       "      <td>False</td>\n",
       "      <td>False</td>\n",
       "    </tr>\n",
       "    <tr>\n",
       "      <th>1</th>\n",
       "      <td>False</td>\n",
       "      <td>False</td>\n",
       "      <td>False</td>\n",
       "      <td>False</td>\n",
       "      <td>False</td>\n",
       "      <td>False</td>\n",
       "      <td>False</td>\n",
       "    </tr>\n",
       "    <tr>\n",
       "      <th>2</th>\n",
       "      <td>False</td>\n",
       "      <td>False</td>\n",
       "      <td>False</td>\n",
       "      <td>False</td>\n",
       "      <td>False</td>\n",
       "      <td>False</td>\n",
       "      <td>False</td>\n",
       "    </tr>\n",
       "    <tr>\n",
       "      <th>3</th>\n",
       "      <td>False</td>\n",
       "      <td>False</td>\n",
       "      <td>False</td>\n",
       "      <td>False</td>\n",
       "      <td>False</td>\n",
       "      <td>False</td>\n",
       "      <td>False</td>\n",
       "    </tr>\n",
       "    <tr>\n",
       "      <th>4</th>\n",
       "      <td>False</td>\n",
       "      <td>False</td>\n",
       "      <td>False</td>\n",
       "      <td>False</td>\n",
       "      <td>False</td>\n",
       "      <td>False</td>\n",
       "      <td>False</td>\n",
       "    </tr>\n",
       "    <tr>\n",
       "      <th>...</th>\n",
       "      <td>...</td>\n",
       "      <td>...</td>\n",
       "      <td>...</td>\n",
       "      <td>...</td>\n",
       "      <td>...</td>\n",
       "      <td>...</td>\n",
       "      <td>...</td>\n",
       "    </tr>\n",
       "    <tr>\n",
       "      <th>1822</th>\n",
       "      <td>False</td>\n",
       "      <td>False</td>\n",
       "      <td>False</td>\n",
       "      <td>False</td>\n",
       "      <td>False</td>\n",
       "      <td>False</td>\n",
       "      <td>False</td>\n",
       "    </tr>\n",
       "    <tr>\n",
       "      <th>1823</th>\n",
       "      <td>False</td>\n",
       "      <td>False</td>\n",
       "      <td>False</td>\n",
       "      <td>False</td>\n",
       "      <td>False</td>\n",
       "      <td>False</td>\n",
       "      <td>False</td>\n",
       "    </tr>\n",
       "    <tr>\n",
       "      <th>1824</th>\n",
       "      <td>False</td>\n",
       "      <td>False</td>\n",
       "      <td>False</td>\n",
       "      <td>False</td>\n",
       "      <td>False</td>\n",
       "      <td>False</td>\n",
       "      <td>False</td>\n",
       "    </tr>\n",
       "    <tr>\n",
       "      <th>1825</th>\n",
       "      <td>False</td>\n",
       "      <td>False</td>\n",
       "      <td>False</td>\n",
       "      <td>False</td>\n",
       "      <td>False</td>\n",
       "      <td>False</td>\n",
       "      <td>False</td>\n",
       "    </tr>\n",
       "    <tr>\n",
       "      <th>1826</th>\n",
       "      <td>False</td>\n",
       "      <td>False</td>\n",
       "      <td>False</td>\n",
       "      <td>False</td>\n",
       "      <td>False</td>\n",
       "      <td>False</td>\n",
       "      <td>False</td>\n",
       "    </tr>\n",
       "  </tbody>\n",
       "</table>\n",
       "<p>1827 rows × 7 columns</p>\n",
       "</div>"
      ],
      "text/plain": [
       "       Date   Open   High    Low  Close  Adj Close  Volume\n",
       "0     False  False  False  False  False      False   False\n",
       "1     False  False  False  False  False      False   False\n",
       "2     False  False  False  False  False      False   False\n",
       "3     False  False  False  False  False      False   False\n",
       "4     False  False  False  False  False      False   False\n",
       "...     ...    ...    ...    ...    ...        ...     ...\n",
       "1822  False  False  False  False  False      False   False\n",
       "1823  False  False  False  False  False      False   False\n",
       "1824  False  False  False  False  False      False   False\n",
       "1825  False  False  False  False  False      False   False\n",
       "1826  False  False  False  False  False      False   False\n",
       "\n",
       "[1827 rows x 7 columns]"
      ]
     },
     "execution_count": 3,
     "metadata": {},
     "output_type": "execute_result"
    }
   ],
   "source": [
    "df.isnull()"
   ]
  },
  {
   "cell_type": "code",
   "execution_count": 4,
   "metadata": {},
   "outputs": [
    {
     "name": "stdout",
     "output_type": "stream",
     "text": [
      "<class 'pandas.core.frame.DataFrame'>\n",
      "RangeIndex: 1827 entries, 0 to 1826\n",
      "Data columns (total 7 columns):\n",
      " #   Column     Non-Null Count  Dtype  \n",
      "---  ------     --------------  -----  \n",
      " 0   Date       1827 non-null   object \n",
      " 1   Open       1827 non-null   float64\n",
      " 2   High       1827 non-null   float64\n",
      " 3   Low        1827 non-null   float64\n",
      " 4   Close      1827 non-null   float64\n",
      " 5   Adj Close  1827 non-null   float64\n",
      " 6   Volume     1827 non-null   int64  \n",
      "dtypes: float64(5), int64(1), object(1)\n",
      "memory usage: 100.0+ KB\n"
     ]
    }
   ],
   "source": [
    "df.info()"
   ]
  },
  {
   "cell_type": "code",
   "execution_count": 5,
   "metadata": {},
   "outputs": [
    {
     "data": {
      "text/plain": [
       "Date         0\n",
       "Open         0\n",
       "High         0\n",
       "Low          0\n",
       "Close        0\n",
       "Adj Close    0\n",
       "Volume       0\n",
       "dtype: int64"
      ]
     },
     "execution_count": 5,
     "metadata": {},
     "output_type": "execute_result"
    }
   ],
   "source": [
    "df.isnull().sum()"
   ]
  },
  {
   "cell_type": "code",
   "execution_count": 6,
   "metadata": {},
   "outputs": [
    {
     "data": {
      "text/plain": [
       "<bound method NDFrame.describe of             Date          Open          High           Low         Close  \\\n",
       "0     2017-10-10   4776.209961   4922.169922   4765.100098   4781.990234   \n",
       "1     2017-10-11   4789.250000   4873.729980   4751.629883   4826.479980   \n",
       "2     2017-10-12   4829.580078   5446.910156   4822.000000   5446.910156   \n",
       "3     2017-10-13   5464.160156   5840.299805   5436.850098   5647.209961   \n",
       "4     2017-10-14   5643.529785   5837.700195   5591.640137   5831.790039   \n",
       "...          ...           ...           ...           ...           ...   \n",
       "1822  2022-10-06  20161.039063  20408.392578  19900.087891  19955.443359   \n",
       "1823  2022-10-07  19957.558594  20041.085938  19395.792969  19546.849609   \n",
       "1824  2022-10-08  19546.328125  19601.695313  19299.414063  19416.568359   \n",
       "1825  2022-10-09  19417.478516  19542.539063  19349.259766  19446.425781   \n",
       "1826  2022-10-10  19437.414063  19512.427734  19152.566406  19320.189453   \n",
       "\n",
       "         Adj Close       Volume  \n",
       "0      4781.990234   1597139968  \n",
       "1      4826.479980   1222279936  \n",
       "2      5446.910156   2791610112  \n",
       "3      5647.209961   3615480064  \n",
       "4      5831.790039   1669030016  \n",
       "...            ...          ...  \n",
       "1822  19955.443359  34711412966  \n",
       "1823  19546.849609  29227315390  \n",
       "1824  19416.568359  16437423167  \n",
       "1825  19446.425781  16837262532  \n",
       "1826  19320.189453  25182300160  \n",
       "\n",
       "[1827 rows x 7 columns]>"
      ]
     },
     "execution_count": 6,
     "metadata": {},
     "output_type": "execute_result"
    }
   ],
   "source": [
    "df.describe"
   ]
  },
  {
   "cell_type": "code",
   "execution_count": 7,
   "metadata": {},
   "outputs": [],
   "source": [
    "df[\"Close\"]=pd.to_numeric(df.Close,errors='coerce')"
   ]
  },
  {
   "cell_type": "markdown",
   "metadata": {},
   "source": [
    "#### plots"
   ]
  },
  {
   "cell_type": "code",
   "execution_count": 8,
   "metadata": {},
   "outputs": [
    {
     "data": {
      "image/png": "[encoded data removed]",
      "text/plain": [
       "<Figure size 432x288 with 1 Axes>"
      ]
     },
     "metadata": {
      "needs_background": "light"
     },
     "output_type": "display_data"
    }
   ],
   "source": [
    "# 'Close' feature  \n",
    "plt.plot(df.index, df['Close'], color = 'green', label = 'Close')\n",
    "plt.show()"
   ]
  },
  {
   "cell_type": "markdown",
   "metadata": {},
   "source": [
    "##### Preprocessing data"
   ]
  },
  {
   "cell_type": "code",
   "execution_count": 9,
   "metadata": {},
   "outputs": [
    {
     "data": {
      "text/plain": [
       "(1827, 1)"
      ]
     },
     "execution_count": 9,
     "metadata": {},
     "output_type": "execute_result"
    }
   ],
   "source": [
    "# saving 'Close' feature in a variable name dataV1, since we only need that\n",
    "dataV1 = df.iloc[:,3:4]\n",
    "dataV1 = dataV1.values\n",
    "dataV1.shape"
   ]
  },
  {
   "cell_type": "code",
   "execution_count": 10,
   "metadata": {},
   "outputs": [
    {
     "data": {
      "text/plain": [
       "(1827, 1)"
      ]
     },
     "execution_count": 10,
     "metadata": {},
     "output_type": "execute_result"
    }
   ],
   "source": [
    "# normalizing the data\n",
    "Scaler = MinMaxScaler(feature_range=(0,1))\n",
    "dataV1 = Scaler.fit_transform(dataV1)\n",
    "dataV1.shape"
   ]
  },
  {
   "cell_type": "code",
   "execution_count": 11,
   "metadata": {},
   "outputs": [],
   "source": [
    "# declaring feature length\n",
    "feature_length = 100\n",
    "# Function to create x and y data\n",
    "def Create_Features_and_Targets(data, feature_length):\n",
    "  X = list()\n",
    "  Y = list()\n",
    "  for i in range(len(data) - feature_length -1):\n",
    "    X.append(data[i:(i + feature_length), 0])\n",
    "    Y.append(data[i + feature_length, 0])\n",
    "  X = np.array(X)\n",
    "  Y = np.array(Y)\n",
    "  return X,Y"
   ]
  },
  {
   "cell_type": "code",
   "execution_count": 12,
   "metadata": {},
   "outputs": [],
   "source": [
    "X_train, y_train = Create_Features_and_Targets(dataV1, feature_length)"
   ]
  },
  {
   "cell_type": "code",
   "execution_count": 13,
   "metadata": {},
   "outputs": [],
   "source": [
    "# Making data 3 dimensional\n",
    "X_train = np.reshape(X_train,(X_train.shape[0],X_train.shape[1],1))"
   ]
  },
  {
   "cell_type": "code",
   "execution_count": 14,
   "metadata": {},
   "outputs": [
    {
     "data": {
      "text/plain": [
       "((1726, 100, 1), (1726,))"
      ]
     },
     "execution_count": 14,
     "metadata": {},
     "output_type": "execute_result"
    }
   ],
   "source": [
    "X_train.shape, y_train.shape"
   ]
  },
  {
   "cell_type": "markdown",
   "metadata": {},
   "source": [
    "### LSTM Model"
   ]
  },
  {
   "cell_type": "code",
   "execution_count": 15,
   "metadata": {},
   "outputs": [],
   "source": [
    "# model\n",
    "model = Sequential([\n",
    "    LSTM(128, return_sequences = True, input_shape =(X_train.shape[1],1)),\n",
    "    Dropout(0.45),\n",
    "\n",
    "    LSTM(128, return_sequences = False),\n",
    "    Dropout(0.4),\n",
    "    Dense(1),\n",
    "])\n",
    "model.compile(optimizer='adam',loss=\"mean_squared_error\")"
   ]
  },
  {
   "cell_type": "code",
   "execution_count": 16,
   "metadata": {},
   "outputs": [
    {
     "name": "stdout",
     "output_type": "stream",
     "text": [
      "Model: \"sequential\"\n",
      "_________________________________________________________________\n",
      " Layer (type)                Output Shape              Param #   \n",
      "=================================================================\n",
      " lstm (LSTM)                 (None, 100, 100)          40800     \n",
      "                                                                 \n",
      " dropout (Dropout)           (None, 100, 100)          0         \n",
      "                                                                 \n",
      " lstm_1 (LSTM)               (None, 100)               80400     \n",
      "                                                                 \n",
      " dropout_1 (Dropout)         (None, 100)               0         \n",
      "                                                                 \n",
      " dense (Dense)               (None, 1)                 101       \n",
      "                                                                 \n",
      "=================================================================\n",
      "Total params: 121,301\n",
      "Trainable params: 121,301\n",
      "Non-trainable params: 0\n",
      "_________________________________________________________________\n"
     ]
    }
   ],
   "source": [
    "model.summary()"
   ]
  },
  {
   "cell_type": "code",
   "execution_count": 17,
   "metadata": {},
   "outputs": [
    {
     "name": "stdout",
     "output_type": "stream",
     "text": [
      "Epoch 1/50\n",
      "144/144 [==============================] - 21s 111ms/step - loss: 0.0074\n",
      "Epoch 2/50\n",
      "144/144 [==============================] - 17s 115ms/step - loss: 0.0029\n",
      "Epoch 3/50\n",
      "144/144 [==============================] - 17s 114ms/step - loss: 0.0025\n",
      "Epoch 4/50\n",
      "144/144 [==============================] - 17s 117ms/step - loss: 0.0022\n",
      "Epoch 5/50\n",
      "144/144 [==============================] - 16s 108ms/step - loss: 0.0020\n",
      "Epoch 6/50\n",
      "144/144 [==============================] - 17s 115ms/step - loss: 0.0018\n",
      "Epoch 7/50\n",
      "144/144 [==============================] - 17s 117ms/step - loss: 0.0019\n",
      "Epoch 8/50\n",
      "144/144 [==============================] - 16s 114ms/step - loss: 0.0022\n",
      "Epoch 9/50\n",
      "144/144 [==============================] - 16s 108ms/step - loss: 0.0015\n",
      "Epoch 10/50\n",
      "144/144 [==============================] - 16s 108ms/step - loss: 0.0015\n",
      "Epoch 11/50\n",
      "144/144 [==============================] - 16s 113ms/step - loss: 0.0015\n",
      "Epoch 12/50\n",
      "144/144 [==============================] - 17s 115ms/step - loss: 0.0014\n",
      "Epoch 13/50\n",
      "144/144 [==============================] - 16s 112ms/step - loss: 0.0017\n",
      "Epoch 14/50\n",
      "144/144 [==============================] - 17s 119ms/step - loss: 0.0015\n",
      "Epoch 15/50\n",
      "144/144 [==============================] - 20s 136ms/step - loss: 0.0014\n",
      "Epoch 16/50\n",
      "144/144 [==============================] - 23s 158ms/step - loss: 0.0014\n",
      "Epoch 17/50\n",
      "144/144 [==============================] - 24s 164ms/step - loss: 0.0013\n",
      "Epoch 18/50\n",
      "144/144 [==============================] - 22s 155ms/step - loss: 0.0015\n",
      "Epoch 19/50\n",
      "144/144 [==============================] - 19s 134ms/step - loss: 0.0013\n",
      "Epoch 20/50\n",
      "144/144 [==============================] - 20s 136ms/step - loss: 0.0011\n",
      "Epoch 21/50\n",
      "144/144 [==============================] - 23s 160ms/step - loss: 0.0013\n",
      "Epoch 22/50\n",
      "144/144 [==============================] - 19s 132ms/step - loss: 0.0013\n",
      "Epoch 23/50\n",
      "144/144 [==============================] - 19s 129ms/step - loss: 0.0013\n",
      "Epoch 24/50\n",
      "144/144 [==============================] - 19s 129ms/step - loss: 0.0012\n",
      "Epoch 25/50\n",
      "144/144 [==============================] - 27s 188ms/step - loss: 0.0012\n",
      "Epoch 26/50\n",
      "144/144 [==============================] - 19s 134ms/step - loss: 0.0013\n",
      "Epoch 27/50\n",
      "144/144 [==============================] - 20s 136ms/step - loss: 0.0013\n",
      "Epoch 28/50\n",
      "144/144 [==============================] - 18s 126ms/step - loss: 0.0012\n",
      "Epoch 29/50\n",
      "144/144 [==============================] - 21s 149ms/step - loss: 0.0011\n",
      "Epoch 30/50\n",
      "144/144 [==============================] - 19s 132ms/step - loss: 0.0011\n",
      "Epoch 31/50\n",
      "144/144 [==============================] - 32s 225ms/step - loss: 0.0011\n",
      "Epoch 32/50\n",
      "144/144 [==============================] - 20s 137ms/step - loss: 0.0012\n",
      "Epoch 33/50\n",
      "144/144 [==============================] - 19s 131ms/step - loss: 0.0011\n",
      "Epoch 34/50\n",
      "144/144 [==============================] - 18s 123ms/step - loss: 0.0012\n",
      "Epoch 35/50\n",
      "144/144 [==============================] - 19s 131ms/step - loss: 0.0012\n",
      "Epoch 36/50\n",
      "144/144 [==============================] - 19s 134ms/step - loss: 0.0011\n",
      "Epoch 37/50\n",
      "144/144 [==============================] - 18s 124ms/step - loss: 0.0010\n",
      "Epoch 38/50\n",
      "144/144 [==============================] - 19s 133ms/step - loss: 0.0011\n",
      "Epoch 39/50\n",
      "144/144 [==============================] - 20s 139ms/step - loss: 9.8727e-04\n",
      "Epoch 40/50\n",
      "144/144 [==============================] - 19s 132ms/step - loss: 9.6643e-04\n",
      "Epoch 41/50\n",
      "144/144 [==============================] - 18s 128ms/step - loss: 9.7100e-04\n",
      "Epoch 42/50\n",
      "144/144 [==============================] - 19s 132ms/step - loss: 9.8106e-04\n",
      "Epoch 43/50\n",
      "144/144 [==============================] - 23s 163ms/step - loss: 9.6791e-04\n",
      "Epoch 44/50\n",
      "144/144 [==============================] - 23s 157ms/step - loss: 8.6793e-04\n",
      "Epoch 45/50\n",
      "144/144 [==============================] - 18s 127ms/step - loss: 0.0012\n",
      "Epoch 46/50\n",
      "144/144 [==============================] - 18s 124ms/step - loss: 9.9417e-04\n",
      "Epoch 47/50\n",
      "144/144 [==============================] - 18s 124ms/step - loss: 0.0012\n",
      "Epoch 48/50\n",
      "144/144 [==============================] - 19s 129ms/step - loss: 9.6829e-04\n",
      "Epoch 49/50\n",
      "144/144 [==============================] - 20s 138ms/step - loss: 0.0010\n",
      "Epoch 50/50\n",
      "144/144 [==============================] - 19s 133ms/step - loss: 0.0010\n"
     ]
    }
   ],
   "source": [
    "#LSTM Training the model\n",
    "history = model.fit(\n",
    "    X_train, \n",
    "    y_train, \n",
    "    epochs = 50, \n",
    "    batch_size = 12, \n",
    "    verbose=1,\n",
    ")"
   ]
  },
  {
   "cell_type": "code",
   "execution_count": 18,
   "metadata": {},
   "outputs": [
    {
     "data": {
      "image/png": "[encoded data removed]",
      "text/plain": [
       "<Figure size 432x288 with 1 Axes>"
      ]
     },
     "metadata": {
      "needs_background": "light"
     },
     "output_type": "display_data"
    }
   ],
   "source": [
    "# training model\n",
    "plt.plot(history.history['loss'])\n",
    "plt.title('Training model loss')\n",
    "plt.ylabel('loss')\n",
    "plt.xlabel('epoch')\n",
    "plt.show()"
   ]
  },
  {
   "cell_type": "code",
   "execution_count": 19,
   "metadata": {},
   "outputs": [
    {
     "data": {
      "text/plain": [
       "((1726, 1), (1827, 1))"
      ]
     },
     "execution_count": 19,
     "metadata": {},
     "output_type": "execute_result"
    }
   ],
   "source": [
    "testData = df.iloc[:,3:4] \n",
    "y_real = testData.iloc[feature_length+1:,0:].values \n",
    "x_test = testData.iloc[:,0:].values  \n",
    "y_real.shape, x_test.shape"
   ]
  },
  {
   "cell_type": "code",
   "execution_count": 20,
   "metadata": {},
   "outputs": [
    {
     "data": {
      "text/plain": [
       "(1827, 1)"
      ]
     },
     "execution_count": 20,
     "metadata": {},
     "output_type": "execute_result"
    }
   ],
   "source": [
    "# normalize\n",
    "x_test = Scaler.transform(x_test)\n",
    "x_test.shape"
   ]
  },
  {
   "cell_type": "code",
   "execution_count": 21,
   "metadata": {},
   "outputs": [
    {
     "data": {
      "text/plain": [
       "(1726, 100, 1)"
      ]
     },
     "execution_count": 21,
     "metadata": {},
     "output_type": "execute_result"
    }
   ],
   "source": [
    "x_test, y_test = Create_Features_and_Targets(x_test, feature_length)\n",
    "x_test = np.reshape(x_test,(x_test.shape[0],x_test.shape[1],1)) \n",
    "x_test.shape"
   ]
  },
  {
   "cell_type": "code",
   "execution_count": 22,
   "metadata": {},
   "outputs": [
    {
     "name": "stdout",
     "output_type": "stream",
     "text": [
      "54/54 [==============================] - 4s 50ms/step\n"
     ]
    }
   ],
   "source": [
    "# making predictions\n",
    "y_pred = model.predict(x_test)"
   ]
  },
  {
   "cell_type": "code",
   "execution_count": 23,
   "metadata": {},
   "outputs": [],
   "source": [
    "predicted_price = Scaler.inverse_transform(y_pred)"
   ]
  },
  {
   "cell_type": "code",
   "execution_count": 24,
   "metadata": {},
   "outputs": [
    {
     "data": {
      "image/png": "[encoded data removed]",
      "text/plain": [
       "<Figure size 432x288 with 1 Axes>"
      ]
     },
     "metadata": {
      "needs_background": "light"
     },
     "output_type": "display_data"
    }
   ],
   "source": [
    "#Actual Stock Price and the Predicted Stock Price\n",
    "plt.plot(y_real, color = 'red', label = 'Actual')\n",
    "plt.plot(predicted_price, color = 'green', label = 'Predicted')\n",
    "\n",
    "plt.xlabel('Time')\n",
    "plt.ylabel('BTC Trade')\n",
    "plt.legend()\n",
    "plt.show()"
   ]
  },
  {
   "cell_type": "markdown",
   "metadata": {},
   "source": [
    "============//==================="
   ]
  }
 ],
 "metadata": {
  "kernelspec": {
   "display_name": "Python 3.8.8 ('algo')",
   "language": "python",
   "name": "python3"
  },
  "language_info": {
   "codemirror_mode": {
    "name": "ipython",
    "version": 3
   },
   "file_extension": ".py",
   "mimetype": "text/x-python",
   "name": "python",
   "nbconvert_exporter": "python",
   "pygments_lexer": "ipython3",
   "version": "3.8.8"
  },
  "orig_nbformat": 4,
  "vscode": {
   "interpreter": {
    "hash": "5c195208d85e33e610b646febdb8bf2a4830da0f45305cf92c296216c18ddbb8"
   }
  }
 },
 "nbformat": 4,
 "nbformat_minor": 2
}
